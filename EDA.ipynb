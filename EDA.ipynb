{
 "cells": [
  {
   "attachments": {},
   "cell_type": "markdown",
   "metadata": {},
   "source": [
    "__<h1 align = \"center\">VISUALIZING DATA</h1>__\n",
    "\n",
    "__<h1 align = \"center\">LAB 02: Visualizing data Time Series</h1>__"
   ]
  },
  {
   "attachments": {},
   "cell_type": "markdown",
   "metadata": {},
   "source": [
    "---"
   ]
  },
  {
   "attachments": {},
   "cell_type": "markdown",
   "metadata": {},
   "source": [
    "### __Thông tin nhóm__\n",
    "\n",
    "> Nhóm 14\n",
    "\n",
    "<table>\n",
    "    <tr>\n",
    "        <th>STT</th>\n",
    "        <th>MSSV</th>\n",
    "        <th>Họ và tên</th>\n",
    "    </tr>\n",
    "    <tr>\n",
    "        <th>1</th>\n",
    "        <th>20120040</th>\n",
    "        <th>Nguyễn Quang Gia Bảo</th>\n",
    "    </tr>\n",
    "    <tr>\n",
    "        <th>2</th>\n",
    "        <th>20120120</th>\n",
    "        <th>Nguyễn Việt Khoa</th>\n",
    "    </tr>\n",
    "    <tr>\n",
    "        <th>3</th>\n",
    "        <th>20120136</th>\n",
    "        <th>Huỳnh Tuấn Nam</th>\n",
    "    </tr>\n",
    "    <tr>\n",
    "        <th>4</th>\n",
    "        <th>20120158</th>\n",
    "        <th>Trần Hoàng Anh Phi</th>\n",
    "    </tr>\n",
    "</table>"
   ]
  },
  {
   "attachments": {},
   "cell_type": "markdown",
   "metadata": {},
   "source": [
    "### __Dataset's Infomation__\n",
    "\n",
    "<table>\n",
    "    <tr>\n",
    "        <th>STT</th>\n",
    "        <th></th>\n",
    "        <th></th>\n",
    "    </tr>\n",
    "    <tr>\n",
    "        <th>1</th>\n",
    "        <th>Tên dataset</th>\n",
    "        <th></th>\n",
    "    </tr>\n",
    "    <tr>\n",
    "        <th>2</th>\n",
    "        <th>Nội dung của dataset</th>\n",
    "        <th></th>\n",
    "    </tr>\n",
    "    <tr>\n",
    "        <th>3</th>\n",
    "        <th>Ngày đăng/ cập nhật</th>\n",
    "        <th></th>\n",
    "    </tr>\n",
    "    <tr>\n",
    "        <th>4</th>\n",
    "        <th>Giấy phép</th>\n",
    "        <th></th>\n",
    "    </tr>\n",
    "    <tr>\n",
    "        <th>5</th>\n",
    "        <th>Đường link trên Kaggle</th>\n",
    "        <th><a href = 'https://www.kaggle.com/datasets/farazrahman/earthquake'>https://www.kaggle.com/datasets/farazrahman/earthquake</a></th>\n",
    "    </tr>\n",
    "    <tr>\n",
    "        <th>6</th>\n",
    "        <th>Đường link trên Google Drive (csv)</th>\n",
    "        <th></th>\n",
    "    </tr>\n",
    "    <tr>\n",
    "        <th>7</th>\n",
    "        <th>Lí do sử dụng dataset</th>\n",
    "        <th></th>\n",
    "    </tr>\n",
    "</table>"
   ]
  },
  {
   "attachments": {},
   "cell_type": "markdown",
   "metadata": {},
   "source": [
    "## __Install Package__"
   ]
  },
  {
   "attachments": {},
   "cell_type": "markdown",
   "metadata": {},
   "source": [
    "## __Import Package__"
   ]
  },
  {
   "cell_type": "code",
   "execution_count": 1,
   "metadata": {},
   "outputs": [],
   "source": [
    "import numpy as np\n",
    "import pandas as pd\n",
    "import plotly as pl\n",
    "import seaborn as sns\n",
    "import matplotlib.pyplot as plt\n",
    "import warnings\n",
    "warnings.filterwarnings('ignore')\n",
    "%matplotlib inline"
   ]
  },
  {
   "attachments": {},
   "cell_type": "markdown",
   "metadata": {},
   "source": [
    "## __Dataset Path__"
   ]
  },
  {
   "cell_type": "code",
   "execution_count": 2,
   "metadata": {},
   "outputs": [],
   "source": [
    "__path__ = \"./csv/crime.csv\""
   ]
  },
  {
   "attachments": {},
   "cell_type": "markdown",
   "metadata": {},
   "source": [
    "## __Read dataset__"
   ]
  },
  {
   "cell_type": "code",
   "execution_count": 3,
   "metadata": {},
   "outputs": [],
   "source": [
    "df = pd.read_csv(__path__)"
   ]
  },
  {
   "attachments": {},
   "cell_type": "markdown",
   "metadata": {},
   "source": [
    "## __Display the head of dataset__"
   ]
  },
  {
   "cell_type": "code",
   "execution_count": 4,
   "metadata": {},
   "outputs": [
    {
     "data": {
      "text/html": [
       "<div>\n",
       "<style scoped>\n",
       "    .dataframe tbody tr th:only-of-type {\n",
       "        vertical-align: middle;\n",
       "    }\n",
       "\n",
       "    .dataframe tbody tr th {\n",
       "        vertical-align: top;\n",
       "    }\n",
       "\n",
       "    .dataframe thead th {\n",
       "        text-align: right;\n",
       "    }\n",
       "</style>\n",
       "<table border=\"1\" class=\"dataframe\">\n",
       "  <thead>\n",
       "    <tr style=\"text-align: right;\">\n",
       "      <th></th>\n",
       "      <th>CrimeDate</th>\n",
       "      <th>CrimeTime</th>\n",
       "      <th>CrimeCode</th>\n",
       "      <th>Location</th>\n",
       "      <th>Description</th>\n",
       "      <th>Inside/Outside</th>\n",
       "      <th>Weapon</th>\n",
       "      <th>Post</th>\n",
       "      <th>District</th>\n",
       "      <th>Neighborhood</th>\n",
       "      <th>Location 1</th>\n",
       "      <th>Total Incidents</th>\n",
       "    </tr>\n",
       "  </thead>\n",
       "  <tbody>\n",
       "    <tr>\n",
       "      <th>0</th>\n",
       "      <td>11/12/2016</td>\n",
       "      <td>02:35:00</td>\n",
       "      <td>3B</td>\n",
       "      <td>300 SAINT PAUL PL</td>\n",
       "      <td>ROBBERY - STREET</td>\n",
       "      <td>O</td>\n",
       "      <td>NaN</td>\n",
       "      <td>111.0</td>\n",
       "      <td>CENTRAL</td>\n",
       "      <td>Downtown</td>\n",
       "      <td>(39.2924100000, -76.6140800000)</td>\n",
       "      <td>1</td>\n",
       "    </tr>\n",
       "    <tr>\n",
       "      <th>1</th>\n",
       "      <td>11/12/2016</td>\n",
       "      <td>02:56:00</td>\n",
       "      <td>3CF</td>\n",
       "      <td>800 S BROADWAY</td>\n",
       "      <td>ROBBERY - COMMERCIAL</td>\n",
       "      <td>I</td>\n",
       "      <td>FIREARM</td>\n",
       "      <td>213.0</td>\n",
       "      <td>SOUTHEASTERN</td>\n",
       "      <td>Fells Point</td>\n",
       "      <td>(39.2824200000, -76.5928800000)</td>\n",
       "      <td>1</td>\n",
       "    </tr>\n",
       "    <tr>\n",
       "      <th>2</th>\n",
       "      <td>11/12/2016</td>\n",
       "      <td>03:00:00</td>\n",
       "      <td>6D</td>\n",
       "      <td>1500 PENTWOOD RD</td>\n",
       "      <td>LARCENY FROM AUTO</td>\n",
       "      <td>O</td>\n",
       "      <td>NaN</td>\n",
       "      <td>413.0</td>\n",
       "      <td>NORTHEASTERN</td>\n",
       "      <td>Stonewood-Pentwood-Winston</td>\n",
       "      <td>(39.3480500000, -76.5883400000)</td>\n",
       "      <td>1</td>\n",
       "    </tr>\n",
       "    <tr>\n",
       "      <th>3</th>\n",
       "      <td>11/12/2016</td>\n",
       "      <td>03:00:00</td>\n",
       "      <td>6D</td>\n",
       "      <td>6600 MILTON LN</td>\n",
       "      <td>LARCENY FROM AUTO</td>\n",
       "      <td>O</td>\n",
       "      <td>NaN</td>\n",
       "      <td>424.0</td>\n",
       "      <td>NORTHEASTERN</td>\n",
       "      <td>Westfield</td>\n",
       "      <td>(39.3626300000, -76.5516100000)</td>\n",
       "      <td>1</td>\n",
       "    </tr>\n",
       "    <tr>\n",
       "      <th>4</th>\n",
       "      <td>11/12/2016</td>\n",
       "      <td>03:00:00</td>\n",
       "      <td>6E</td>\n",
       "      <td>300 W BALTIMORE ST</td>\n",
       "      <td>LARCENY</td>\n",
       "      <td>O</td>\n",
       "      <td>NaN</td>\n",
       "      <td>111.0</td>\n",
       "      <td>CENTRAL</td>\n",
       "      <td>Downtown</td>\n",
       "      <td>(39.2893800000, -76.6197100000)</td>\n",
       "      <td>1</td>\n",
       "    </tr>\n",
       "  </tbody>\n",
       "</table>\n",
       "</div>"
      ],
      "text/plain": [
       "    CrimeDate CrimeTime CrimeCode            Location           Description  \\\n",
       "0  11/12/2016  02:35:00        3B   300 SAINT PAUL PL      ROBBERY - STREET   \n",
       "1  11/12/2016  02:56:00       3CF      800 S BROADWAY  ROBBERY - COMMERCIAL   \n",
       "2  11/12/2016  03:00:00        6D    1500 PENTWOOD RD     LARCENY FROM AUTO   \n",
       "3  11/12/2016  03:00:00        6D      6600 MILTON LN     LARCENY FROM AUTO   \n",
       "4  11/12/2016  03:00:00        6E  300 W BALTIMORE ST               LARCENY   \n",
       "\n",
       "  Inside/Outside   Weapon   Post      District                Neighborhood  \\\n",
       "0              O      NaN  111.0       CENTRAL                    Downtown   \n",
       "1              I  FIREARM  213.0  SOUTHEASTERN                 Fells Point   \n",
       "2              O      NaN  413.0  NORTHEASTERN  Stonewood-Pentwood-Winston   \n",
       "3              O      NaN  424.0  NORTHEASTERN                   Westfield   \n",
       "4              O      NaN  111.0       CENTRAL                    Downtown   \n",
       "\n",
       "                        Location 1  Total Incidents  \n",
       "0  (39.2924100000, -76.6140800000)                1  \n",
       "1  (39.2824200000, -76.5928800000)                1  \n",
       "2  (39.3480500000, -76.5883400000)                1  \n",
       "3  (39.3626300000, -76.5516100000)                1  \n",
       "4  (39.2893800000, -76.6197100000)                1  "
      ]
     },
     "execution_count": 4,
     "metadata": {},
     "output_type": "execute_result"
    }
   ],
   "source": [
    "df.head()"
   ]
  },
  {
   "attachments": {},
   "cell_type": "markdown",
   "metadata": {},
   "source": [
    "## __Infomation of dataset__"
   ]
  },
  {
   "cell_type": "code",
   "execution_count": 5,
   "metadata": {},
   "outputs": [
    {
     "name": "stdout",
     "output_type": "stream",
     "text": [
      "The dataset has 285807 rows, and 12 columns\n"
     ]
    }
   ],
   "source": [
    "n_rows, n_columns = df.shape[0], df.shape[1]\n",
    "print(f'The dataset has {n_rows} rows, and {n_columns} columns')"
   ]
  },
  {
   "cell_type": "code",
   "execution_count": 6,
   "metadata": {},
   "outputs": [
    {
     "name": "stdout",
     "output_type": "stream",
     "text": [
      "Dataset has 0 row(s) which have all NaN in each column\n"
     ]
    }
   ],
   "source": [
    "original_length = len(df)\n",
    "df.dropna(how = 'all', inplace = True)\n",
    "dropna_length = len(df)\n",
    "print(f'Dataset has {original_length - dropna_length} row(s) which have all NaN in each column')"
   ]
  },
  {
   "cell_type": "code",
   "execution_count": 7,
   "metadata": {},
   "outputs": [],
   "source": [
    "df['CrimeDate'] = pd.to_datetime(df['CrimeDate'], errors= 'coerce')"
   ]
  },
  {
   "cell_type": "code",
   "execution_count": 8,
   "metadata": {},
   "outputs": [
    {
     "name": "stdout",
     "output_type": "stream",
     "text": [
      "<class 'pandas.core.frame.DataFrame'>\n",
      "Int64Index: 285807 entries, 0 to 285806\n",
      "Data columns (total 12 columns):\n",
      " #   Column           Non-Null Count   Dtype         \n",
      "---  ------           --------------   -----         \n",
      " 0   CrimeDate        285807 non-null  datetime64[ns]\n",
      " 1   CrimeTime        285807 non-null  object        \n",
      " 2   CrimeCode        285807 non-null  object        \n",
      " 3   Location         284184 non-null  object        \n",
      " 4   Description      285807 non-null  object        \n",
      " 5   Inside/Outside   281611 non-null  object        \n",
      " 6   Weapon           97396 non-null   object        \n",
      " 7   Post             285616 non-null  float64       \n",
      " 8   District         285749 non-null  object        \n",
      " 9   Neighborhood     284106 non-null  object        \n",
      " 10  Location 1       284188 non-null  object        \n",
      " 11  Total Incidents  285807 non-null  int64         \n",
      "dtypes: datetime64[ns](1), float64(1), int64(1), object(9)\n",
      "memory usage: 28.3+ MB\n"
     ]
    }
   ],
   "source": [
    "df.info()"
   ]
  },
  {
   "cell_type": "code",
   "execution_count": 9,
   "metadata": {},
   "outputs": [],
   "source": [
    "date = df['CrimeDate']"
   ]
  },
  {
   "cell_type": "code",
   "execution_count": 10,
   "metadata": {},
   "outputs": [
    {
     "name": "stdout",
     "output_type": "stream",
     "text": [
      "2016-11-12 00:00:00\n"
     ]
    }
   ],
   "source": [
    "print(date.iloc[1])"
   ]
  },
  {
   "attachments": {},
   "cell_type": "markdown",
   "metadata": {},
   "source": [
    "#### __Thử kiểm tra tính liên tục của các ngày thu thập dữ liệu__"
   ]
  },
  {
   "cell_type": "code",
   "execution_count": 11,
   "metadata": {},
   "outputs": [
    {
     "name": "stdout",
     "output_type": "stream",
     "text": [
      "The dataset is collected from 2011-01-01T00:00:00.000000000 to 2016-11-12T00:00:00.000000000\n"
     ]
    }
   ],
   "source": [
    "date_df = df['CrimeDate']\n",
    "date_from, date_to = date_df.values.min(), date_df.values.max()\n",
    "print(f'The dataset is collected from {date_from} to {date_to}')"
   ]
  },
  {
   "cell_type": "code",
   "execution_count": 12,
   "metadata": {},
   "outputs": [
    {
     "name": "stdout",
     "output_type": "stream",
     "text": [
      "From 2011-01-01T00:00:00.000000000 to 2016-11-12T00:00:00.000000000 have 2143 values\n"
     ]
    }
   ],
   "source": [
    "print(f\"From {date_from} to {date_to} have {len(pd.date_range(start=date_df.min(), end=date_df.max(), freq = 'D'))} values\")"
   ]
  },
  {
   "cell_type": "code",
   "execution_count": 13,
   "metadata": {},
   "outputs": [
    {
     "name": "stdout",
     "output_type": "stream",
     "text": [
      "DatetimeIndex([], dtype='datetime64[ns]', freq='D')\n"
     ]
    }
   ],
   "source": [
    "all = pd.date_range(start=date_df.min(), end=date_df.max(), freq = 'D')\n",
    "mask = all.isin(date_df.values)\n",
    "print(all[~mask])"
   ]
  },
  {
   "attachments": {},
   "cell_type": "markdown",
   "metadata": {},
   "source": [
    "Như vậy bộ dữ liệu có:\n",
    "+ Thông tin về các dữ liệu:\n",
    "    + __285807__ dòng và __12__ cột.\n",
    "    + Có một vài features có giá trị  NaN.\n",
    "    + __Không__ có dòng có toàn bộ.\n",
    "+ Ngày thu thập dữ liệu \n",
    "    + Từ ngày __01/01/2011__ đến __12/11/2016__.\n",
    "    + Các ngày thu thập liên tục, không có sự ngắt quãng.\n"
   ]
  },
  {
   "attachments": {},
   "cell_type": "markdown",
   "metadata": {},
   "source": [
    "## __Kiểm tra số lượng dữ liệu bị thiếu trong mỗi features__"
   ]
  },
  {
   "cell_type": "code",
   "execution_count": 14,
   "metadata": {},
   "outputs": [],
   "source": [
    "missing_df = df.isna().sum().to_frame(name = 'Missing')\n",
    "# missing_df['Non-missing'] = missing_df['Missing'].apply(lambda x: 100 - x)\n",
    "missing_df['Non-missing'] = len(df) - missing_df['Missing']\n",
    "missing_df['%missing'] = missing_df['Missing']*100/len(df)\n",
    "missing_df['%non-missing'] = 100 - missing_df['%missing']"
   ]
  },
  {
   "cell_type": "code",
   "execution_count": 15,
   "metadata": {},
   "outputs": [
    {
     "data": {
      "text/plain": [
       "<matplotlib.legend.Legend at 0x24ba6894c40>"
      ]
     },
     "execution_count": 15,
     "metadata": {},
     "output_type": "execute_result"
    },
    {
     "data": {
      "image/png": "[encoded data removed]",
      "text/plain": [
       "<Figure size 1800x800 with 1 Axes>"
      ]
     },
     "metadata": {},
     "output_type": "display_data"
    }
   ],
   "source": [
    "A4 = (8.3, 11.7)\n",
    "hfigsize = (20,10)\n",
    "vfigsize = (10,20)\n",
    "def create_subplots(figsize, row = 1, col = 1):\n",
    "    return plt.subplots(row, col, figsize = figsize)\n",
    "fig, ax = create_subplots(figsize = (18,8))\n",
    "missing_df[['%missing', '%non-missing']].plot.barh(ax = ax, align = 'center', color = ['red','grey'])\n",
    "plt.ylabel('Features', fontsize = 15, fontweight = 'bold')\n",
    "plt.xlabel('Rate (%)', fontsize = 15, fontweight = 'bold')\n",
    "plt.title('%missing value in each features', fontsize = 20, fontweight = 'bold')\n",
    "for bar in ax.containers:\n",
    "    ax.bar_label(bar)\n",
    "plt.legend(bbox_to_anchor=(1.05, 1), loc='upper left', borderaxespad=0)"
   ]
  },
  {
   "cell_type": "code",
   "execution_count": null,
   "metadata": {},
   "outputs": [],
   "source": []
  },
  {
   "attachments": {},
   "cell_type": "markdown",
   "metadata": {},
   "source": [
    "#### __Đánh giá__\n",
    "+ Có thể thấy, có một vài trường dữ liệu bị thiếu giá trị, tuy nhiên con số là khá thấp chỉ có dưới 1.5%.<br>\n",
    "+ Trường __Weapon__ có mức độ thiếu dữ liệu tận __66%__. Có thể các vụ phạm tội này, hung thủ không đem theo vụ khí, hoặc không tìm được vũ khí."
   ]
  },
  {
   "attachments": {},
   "cell_type": "markdown",
   "metadata": {},
   "source": [
    "## __Các kiểu dữ liệu trong từng Features__"
   ]
  },
  {
   "cell_type": "code",
   "execution_count": 16,
   "metadata": {},
   "outputs": [],
   "source": [
    "def opened_object_dtype(columns):\n",
    "    return set(df[columns].apply(lambda x: type(x)))"
   ]
  },
  {
   "cell_type": "code",
   "execution_count": 17,
   "metadata": {},
   "outputs": [],
   "source": [
    "info_features = {}\n",
    "for column in df.columns:\n",
    "    info_features[column] = {\n",
    "        \"datatype\": opened_object_dtype(column),\n",
    "        \"unique\": df[column].unique(),\n",
    "        \"number unique\": df[column].nunique()\n",
    "    }\n",
    "info_features_df = pd.DataFrame(info_features)"
   ]
  },
  {
   "cell_type": "code",
   "execution_count": 18,
   "metadata": {},
   "outputs": [
    {
     "data": {
      "text/html": [
       "<div>\n",
       "<style scoped>\n",
       "    .dataframe tbody tr th:only-of-type {\n",
       "        vertical-align: middle;\n",
       "    }\n",
       "\n",
       "    .dataframe tbody tr th {\n",
       "        vertical-align: top;\n",
       "    }\n",
       "\n",
       "    .dataframe thead th {\n",
       "        text-align: right;\n",
       "    }\n",
       "</style>\n",
       "<table border=\"1\" class=\"dataframe\">\n",
       "  <thead>\n",
       "    <tr style=\"text-align: right;\">\n",
       "      <th></th>\n",
       "      <th>CrimeDate</th>\n",
       "      <th>CrimeTime</th>\n",
       "      <th>CrimeCode</th>\n",
       "      <th>Location</th>\n",
       "      <th>Description</th>\n",
       "      <th>Inside/Outside</th>\n",
       "      <th>Weapon</th>\n",
       "      <th>Post</th>\n",
       "      <th>District</th>\n",
       "      <th>Neighborhood</th>\n",
       "      <th>Location 1</th>\n",
       "      <th>Total Incidents</th>\n",
       "    </tr>\n",
       "  </thead>\n",
       "  <tbody>\n",
       "    <tr>\n",
       "      <th>datatype</th>\n",
       "      <td>{&lt;class 'pandas._libs.tslibs.timestamps.Timest...</td>\n",
       "      <td>{&lt;class 'str'&gt;}</td>\n",
       "      <td>{&lt;class 'str'&gt;}</td>\n",
       "      <td>{&lt;class 'str'&gt;, &lt;class 'float'&gt;}</td>\n",
       "      <td>{&lt;class 'str'&gt;}</td>\n",
       "      <td>{&lt;class 'str'&gt;, &lt;class 'float'&gt;}</td>\n",
       "      <td>{&lt;class 'str'&gt;, &lt;class 'float'&gt;}</td>\n",
       "      <td>{&lt;class 'float'&gt;}</td>\n",
       "      <td>{&lt;class 'str'&gt;, &lt;class 'float'&gt;}</td>\n",
       "      <td>{&lt;class 'str'&gt;, &lt;class 'float'&gt;}</td>\n",
       "      <td>{&lt;class 'str'&gt;, &lt;class 'float'&gt;}</td>\n",
       "      <td>{&lt;class 'int'&gt;}</td>\n",
       "    </tr>\n",
       "    <tr>\n",
       "      <th>unique</th>\n",
       "      <td>[2016-11-12T00:00:00.000000000, 2016-11-11T00:...</td>\n",
       "      <td>[02:35:00, 02:56:00, 03:00:00, 03:45:00, 04:27...</td>\n",
       "      <td>[3B, 3CF, 6D, 6E, 4E, 3CO, 3BJ, 5A, 4B, 7A, 3A...</td>\n",
       "      <td>[300 SAINT PAUL PL, 800 S BROADWAY, 1500 PENTW...</td>\n",
       "      <td>[ROBBERY - STREET, ROBBERY - COMMERCIAL, LARCE...</td>\n",
       "      <td>[O, I, Outside, Inside, nan]</td>\n",
       "      <td>[nan, FIREARM, HANDS, OTHER, KNIFE]</td>\n",
       "      <td>[111.0, 213.0, 413.0, 424.0, 423.0, 933.0, 223...</td>\n",
       "      <td>[CENTRAL, SOUTHEASTERN, NORTHEASTERN, SOUTHERN...</td>\n",
       "      <td>[Downtown, Fells Point, Stonewood-Pentwood-Win...</td>\n",
       "      <td>[(39.2924100000, -76.6140800000), (39.28242000...</td>\n",
       "      <td>[1]</td>\n",
       "    </tr>\n",
       "    <tr>\n",
       "      <th>number unique</th>\n",
       "      <td>2143</td>\n",
       "      <td>4236</td>\n",
       "      <td>81</td>\n",
       "      <td>25949</td>\n",
       "      <td>15</td>\n",
       "      <td>4</td>\n",
       "      <td>4</td>\n",
       "      <td>189</td>\n",
       "      <td>13</td>\n",
       "      <td>280</td>\n",
       "      <td>97951</td>\n",
       "      <td>1</td>\n",
       "    </tr>\n",
       "  </tbody>\n",
       "</table>\n",
       "</div>"
      ],
      "text/plain": [
       "                                                       CrimeDate  \\\n",
       "datatype       {<class 'pandas._libs.tslibs.timestamps.Timest...   \n",
       "unique         [2016-11-12T00:00:00.000000000, 2016-11-11T00:...   \n",
       "number unique                                               2143   \n",
       "\n",
       "                                                       CrimeTime  \\\n",
       "datatype                                         {<class 'str'>}   \n",
       "unique         [02:35:00, 02:56:00, 03:00:00, 03:45:00, 04:27...   \n",
       "number unique                                               4236   \n",
       "\n",
       "                                                       CrimeCode  \\\n",
       "datatype                                         {<class 'str'>}   \n",
       "unique         [3B, 3CF, 6D, 6E, 4E, 3CO, 3BJ, 5A, 4B, 7A, 3A...   \n",
       "number unique                                                 81   \n",
       "\n",
       "                                                        Location  \\\n",
       "datatype                        {<class 'str'>, <class 'float'>}   \n",
       "unique         [300 SAINT PAUL PL, 800 S BROADWAY, 1500 PENTW...   \n",
       "number unique                                              25949   \n",
       "\n",
       "                                                     Description  \\\n",
       "datatype                                         {<class 'str'>}   \n",
       "unique         [ROBBERY - STREET, ROBBERY - COMMERCIAL, LARCE...   \n",
       "number unique                                                 15   \n",
       "\n",
       "                                 Inside/Outside  \\\n",
       "datatype       {<class 'str'>, <class 'float'>}   \n",
       "unique             [O, I, Outside, Inside, nan]   \n",
       "number unique                                 4   \n",
       "\n",
       "                                            Weapon  \\\n",
       "datatype          {<class 'str'>, <class 'float'>}   \n",
       "unique         [nan, FIREARM, HANDS, OTHER, KNIFE]   \n",
       "number unique                                    4   \n",
       "\n",
       "                                                            Post  \\\n",
       "datatype                                       {<class 'float'>}   \n",
       "unique         [111.0, 213.0, 413.0, 424.0, 423.0, 933.0, 223...   \n",
       "number unique                                                189   \n",
       "\n",
       "                                                        District  \\\n",
       "datatype                        {<class 'str'>, <class 'float'>}   \n",
       "unique         [CENTRAL, SOUTHEASTERN, NORTHEASTERN, SOUTHERN...   \n",
       "number unique                                                 13   \n",
       "\n",
       "                                                    Neighborhood  \\\n",
       "datatype                        {<class 'str'>, <class 'float'>}   \n",
       "unique         [Downtown, Fells Point, Stonewood-Pentwood-Win...   \n",
       "number unique                                                280   \n",
       "\n",
       "                                                      Location 1  \\\n",
       "datatype                        {<class 'str'>, <class 'float'>}   \n",
       "unique         [(39.2924100000, -76.6140800000), (39.28242000...   \n",
       "number unique                                              97951   \n",
       "\n",
       "               Total Incidents  \n",
       "datatype       {<class 'int'>}  \n",
       "unique                     [1]  \n",
       "number unique                1  "
      ]
     },
     "execution_count": 18,
     "metadata": {},
     "output_type": "execute_result"
    }
   ],
   "source": [
    "info_features_df"
   ]
  },
  {
   "attachments": {},
   "cell_type": "markdown",
   "metadata": {},
   "source": [
    "Sơ qua, ta có thể thấy rằng cột __Inside/Outside__ có các giá trị I = Inside, và O = Outside."
   ]
  },
  {
   "cell_type": "code",
   "execution_count": 19,
   "metadata": {},
   "outputs": [],
   "source": [
    "df['Inside/Outside'] = np.where(df['Inside/Outside'] == 'I', 'Inside', df['Inside/Outside'])\n",
    "df['Inside/Outside'] = np.where(df['Inside/Outside'] == 'O', 'Outside', df['Inside/Outside'])"
   ]
  },
  {
   "attachments": {},
   "cell_type": "markdown",
   "metadata": {},
   "source": [
    "Cột __Location 1__ có thêm kiểu dữ liệu _'str'_."
   ]
  },
  {
   "cell_type": "code",
   "execution_count": 20,
   "metadata": {},
   "outputs": [
    {
     "name": "stdout",
     "output_type": "stream",
     "text": [
      "{nan}\n"
     ]
    }
   ],
   "source": [
    "location1 = df['Location 1']\n",
    "float_value =[]\n",
    "for value in location1.values:\n",
    "    if isinstance(value, float):\n",
    "        float_value.append(value)\n",
    "print(set(float_value))"
   ]
  },
  {
   "attachments": {},
   "cell_type": "markdown",
   "metadata": {},
   "source": [
    "Như vậy các giá trị tọa độ là các chuỗi __string__. Nếu để các tọa độ ở dạng kiểu dữ liệu  __string__ như thế sẽ rất khó để thực hiện các quá trình trực quan hóa dữ liệu một cách hiệu quả."
   ]
  },
  {
   "attachments": {},
   "cell_type": "markdown",
   "metadata": {},
   "source": [
    "#### __Thay đổi kiểu dữ liệu bên trong cột `Inside/Outside`.__"
   ]
  },
  {
   "cell_type": "code",
   "execution_count": 21,
   "metadata": {},
   "outputs": [
    {
     "data": {
      "text/html": [
       "<div>\n",
       "<style scoped>\n",
       "    .dataframe tbody tr th:only-of-type {\n",
       "        vertical-align: middle;\n",
       "    }\n",
       "\n",
       "    .dataframe tbody tr th {\n",
       "        vertical-align: top;\n",
       "    }\n",
       "\n",
       "    .dataframe thead th {\n",
       "        text-align: right;\n",
       "    }\n",
       "</style>\n",
       "<table border=\"1\" class=\"dataframe\">\n",
       "  <thead>\n",
       "    <tr style=\"text-align: right;\">\n",
       "      <th></th>\n",
       "      <th>CrimeDate</th>\n",
       "      <th>CrimeTime</th>\n",
       "      <th>CrimeCode</th>\n",
       "      <th>Location</th>\n",
       "      <th>Description</th>\n",
       "      <th>Inside/Outside</th>\n",
       "      <th>Weapon</th>\n",
       "      <th>Post</th>\n",
       "      <th>District</th>\n",
       "      <th>Neighborhood</th>\n",
       "      <th>Coordinate</th>\n",
       "      <th>Total Incidents</th>\n",
       "    </tr>\n",
       "  </thead>\n",
       "  <tbody>\n",
       "    <tr>\n",
       "      <th>0</th>\n",
       "      <td>2016-11-12</td>\n",
       "      <td>02:35:00</td>\n",
       "      <td>3B</td>\n",
       "      <td>300 SAINT PAUL PL</td>\n",
       "      <td>ROBBERY - STREET</td>\n",
       "      <td>Outside</td>\n",
       "      <td>NaN</td>\n",
       "      <td>111.0</td>\n",
       "      <td>CENTRAL</td>\n",
       "      <td>Downtown</td>\n",
       "      <td>{-76.6140800000, 39.2924100000}</td>\n",
       "      <td>1</td>\n",
       "    </tr>\n",
       "    <tr>\n",
       "      <th>1</th>\n",
       "      <td>2016-11-12</td>\n",
       "      <td>02:56:00</td>\n",
       "      <td>3CF</td>\n",
       "      <td>800 S BROADWAY</td>\n",
       "      <td>ROBBERY - COMMERCIAL</td>\n",
       "      <td>Inside</td>\n",
       "      <td>FIREARM</td>\n",
       "      <td>213.0</td>\n",
       "      <td>SOUTHEASTERN</td>\n",
       "      <td>Fells Point</td>\n",
       "      <td>{-76.5928800000, 39.2824200000}</td>\n",
       "      <td>1</td>\n",
       "    </tr>\n",
       "    <tr>\n",
       "      <th>2</th>\n",
       "      <td>2016-11-12</td>\n",
       "      <td>03:00:00</td>\n",
       "      <td>6D</td>\n",
       "      <td>1500 PENTWOOD RD</td>\n",
       "      <td>LARCENY FROM AUTO</td>\n",
       "      <td>Outside</td>\n",
       "      <td>NaN</td>\n",
       "      <td>413.0</td>\n",
       "      <td>NORTHEASTERN</td>\n",
       "      <td>Stonewood-Pentwood-Winston</td>\n",
       "      <td>{-76.5883400000, 39.3480500000}</td>\n",
       "      <td>1</td>\n",
       "    </tr>\n",
       "    <tr>\n",
       "      <th>3</th>\n",
       "      <td>2016-11-12</td>\n",
       "      <td>03:00:00</td>\n",
       "      <td>6D</td>\n",
       "      <td>6600 MILTON LN</td>\n",
       "      <td>LARCENY FROM AUTO</td>\n",
       "      <td>Outside</td>\n",
       "      <td>NaN</td>\n",
       "      <td>424.0</td>\n",
       "      <td>NORTHEASTERN</td>\n",
       "      <td>Westfield</td>\n",
       "      <td>{-76.5516100000, 39.3626300000}</td>\n",
       "      <td>1</td>\n",
       "    </tr>\n",
       "    <tr>\n",
       "      <th>4</th>\n",
       "      <td>2016-11-12</td>\n",
       "      <td>03:00:00</td>\n",
       "      <td>6E</td>\n",
       "      <td>300 W BALTIMORE ST</td>\n",
       "      <td>LARCENY</td>\n",
       "      <td>Outside</td>\n",
       "      <td>NaN</td>\n",
       "      <td>111.0</td>\n",
       "      <td>CENTRAL</td>\n",
       "      <td>Downtown</td>\n",
       "      <td>{39.2893800000, -76.6197100000}</td>\n",
       "      <td>1</td>\n",
       "    </tr>\n",
       "    <tr>\n",
       "      <th>...</th>\n",
       "      <td>...</td>\n",
       "      <td>...</td>\n",
       "      <td>...</td>\n",
       "      <td>...</td>\n",
       "      <td>...</td>\n",
       "      <td>...</td>\n",
       "      <td>...</td>\n",
       "      <td>...</td>\n",
       "      <td>...</td>\n",
       "      <td>...</td>\n",
       "      <td>...</td>\n",
       "      <td>...</td>\n",
       "    </tr>\n",
       "    <tr>\n",
       "      <th>285802</th>\n",
       "      <td>2011-01-01</td>\n",
       "      <td>22:15:00</td>\n",
       "      <td>4D</td>\n",
       "      <td>6800 MCCLEAN BD</td>\n",
       "      <td>AGG. ASSAULT</td>\n",
       "      <td>Inside</td>\n",
       "      <td>HANDS</td>\n",
       "      <td>423.0</td>\n",
       "      <td>NORTHEASTERN</td>\n",
       "      <td>Hamilton Hills</td>\n",
       "      <td>{39.3704700000, -76.5670500000}</td>\n",
       "      <td>1</td>\n",
       "    </tr>\n",
       "    <tr>\n",
       "      <th>285803</th>\n",
       "      <td>2011-01-01</td>\n",
       "      <td>22:30:00</td>\n",
       "      <td>6J</td>\n",
       "      <td>3000 ODONNELL ST</td>\n",
       "      <td>LARCENY</td>\n",
       "      <td>Inside</td>\n",
       "      <td>NaN</td>\n",
       "      <td>232.0</td>\n",
       "      <td>SOUTHEASTERN</td>\n",
       "      <td>Canton</td>\n",
       "      <td>{39.2804600000, -76.5727300000}</td>\n",
       "      <td>1</td>\n",
       "    </tr>\n",
       "    <tr>\n",
       "      <th>285804</th>\n",
       "      <td>2011-01-01</td>\n",
       "      <td>23:00:00</td>\n",
       "      <td>7A</td>\n",
       "      <td>2500 ARUNAH AV</td>\n",
       "      <td>AUTO THEFT</td>\n",
       "      <td>Outside</td>\n",
       "      <td>NaN</td>\n",
       "      <td>721.0</td>\n",
       "      <td>WESTERN</td>\n",
       "      <td>Evergreen Lawn</td>\n",
       "      <td>{-76.6592800000, 39.2954200000}</td>\n",
       "      <td>1</td>\n",
       "    </tr>\n",
       "    <tr>\n",
       "      <th>285805</th>\n",
       "      <td>2011-01-01</td>\n",
       "      <td>23:25:00</td>\n",
       "      <td>4E</td>\n",
       "      <td>100 N MONROE ST</td>\n",
       "      <td>COMMON ASSAULT</td>\n",
       "      <td>Inside</td>\n",
       "      <td>HANDS</td>\n",
       "      <td>714.0</td>\n",
       "      <td>WESTERN</td>\n",
       "      <td>Penrose/Fayette Street Outreach</td>\n",
       "      <td>{-76.6470700000, 39.2899900000}</td>\n",
       "      <td>1</td>\n",
       "    </tr>\n",
       "    <tr>\n",
       "      <th>285806</th>\n",
       "      <td>2011-01-01</td>\n",
       "      <td>23:38:00</td>\n",
       "      <td>4D</td>\n",
       "      <td>800 N FREMONT AV</td>\n",
       "      <td>AGG. ASSAULT</td>\n",
       "      <td>Inside</td>\n",
       "      <td>HANDS</td>\n",
       "      <td>123.0</td>\n",
       "      <td>WESTERN</td>\n",
       "      <td>Upton</td>\n",
       "      <td>{-76.6339100000, 39.2981200000}</td>\n",
       "      <td>1</td>\n",
       "    </tr>\n",
       "  </tbody>\n",
       "</table>\n",
       "<p>285807 rows × 12 columns</p>\n",
       "</div>"
      ],
      "text/plain": [
       "        CrimeDate CrimeTime CrimeCode            Location  \\\n",
       "0      2016-11-12  02:35:00        3B   300 SAINT PAUL PL   \n",
       "1      2016-11-12  02:56:00       3CF      800 S BROADWAY   \n",
       "2      2016-11-12  03:00:00        6D    1500 PENTWOOD RD   \n",
       "3      2016-11-12  03:00:00        6D      6600 MILTON LN   \n",
       "4      2016-11-12  03:00:00        6E  300 W BALTIMORE ST   \n",
       "...           ...       ...       ...                 ...   \n",
       "285802 2011-01-01  22:15:00        4D     6800 MCCLEAN BD   \n",
       "285803 2011-01-01  22:30:00        6J    3000 ODONNELL ST   \n",
       "285804 2011-01-01  23:00:00        7A      2500 ARUNAH AV   \n",
       "285805 2011-01-01  23:25:00        4E     100 N MONROE ST   \n",
       "285806 2011-01-01  23:38:00        4D    800 N FREMONT AV   \n",
       "\n",
       "                 Description Inside/Outside   Weapon   Post      District  \\\n",
       "0           ROBBERY - STREET        Outside      NaN  111.0       CENTRAL   \n",
       "1       ROBBERY - COMMERCIAL         Inside  FIREARM  213.0  SOUTHEASTERN   \n",
       "2          LARCENY FROM AUTO        Outside      NaN  413.0  NORTHEASTERN   \n",
       "3          LARCENY FROM AUTO        Outside      NaN  424.0  NORTHEASTERN   \n",
       "4                    LARCENY        Outside      NaN  111.0       CENTRAL   \n",
       "...                      ...            ...      ...    ...           ...   \n",
       "285802          AGG. ASSAULT         Inside    HANDS  423.0  NORTHEASTERN   \n",
       "285803               LARCENY         Inside      NaN  232.0  SOUTHEASTERN   \n",
       "285804            AUTO THEFT        Outside      NaN  721.0       WESTERN   \n",
       "285805        COMMON ASSAULT         Inside    HANDS  714.0       WESTERN   \n",
       "285806          AGG. ASSAULT         Inside    HANDS  123.0       WESTERN   \n",
       "\n",
       "                           Neighborhood                       Coordinate  \\\n",
       "0                              Downtown  {-76.6140800000, 39.2924100000}   \n",
       "1                           Fells Point  {-76.5928800000, 39.2824200000}   \n",
       "2            Stonewood-Pentwood-Winston  {-76.5883400000, 39.3480500000}   \n",
       "3                             Westfield  {-76.5516100000, 39.3626300000}   \n",
       "4                              Downtown  {39.2893800000, -76.6197100000}   \n",
       "...                                 ...                              ...   \n",
       "285802                   Hamilton Hills  {39.3704700000, -76.5670500000}   \n",
       "285803                           Canton  {39.2804600000, -76.5727300000}   \n",
       "285804                   Evergreen Lawn  {-76.6592800000, 39.2954200000}   \n",
       "285805  Penrose/Fayette Street Outreach  {-76.6470700000, 39.2899900000}   \n",
       "285806                            Upton  {-76.6339100000, 39.2981200000}   \n",
       "\n",
       "        Total Incidents  \n",
       "0                     1  \n",
       "1                     1  \n",
       "2                     1  \n",
       "3                     1  \n",
       "4                     1  \n",
       "...                 ...  \n",
       "285802                1  \n",
       "285803                1  \n",
       "285804                1  \n",
       "285805                1  \n",
       "285806                1  \n",
       "\n",
       "[285807 rows x 12 columns]"
      ]
     },
     "execution_count": 21,
     "metadata": {},
     "output_type": "execute_result"
    }
   ],
   "source": [
    "def split_coordinate(coor):\n",
    "    if(isinstance(coor, float)):\n",
    "        return coor\n",
    "    coor = coor.split(', ')\n",
    "    coor[0] = coor[0][1:]\n",
    "    coor[1] = coor[1][:-1]\n",
    "    return set(coor)\n",
    "\n",
    "df['Location 1'] = df['Location 1'].apply(lambda x: split_coordinate(x))\n",
    "df = df.rename(columns = {'Location 1': 'Coordinate'})\n",
    "df"
   ]
  },
  {
   "attachments": {},
   "cell_type": "markdown",
   "metadata": {},
   "source": [
    "Để dễ dàng quan sát các dữ liệu theo từng ngày, tháng, năm hơn, cần tạo thêm các cột từ dữ liệu có sẵn."
   ]
  },
  {
   "cell_type": "code",
   "execution_count": 22,
   "metadata": {},
   "outputs": [],
   "source": [
    "df[[\"Year\", \"Month\", \"Day\"]] = df[\"CrimeDate\"].apply(lambda x: str(x)).str.split(\"-\", expand = True)\n",
    "df['Day'] = df['Day'].apply(lambda x: x.split(' ')[0])"
   ]
  },
  {
   "cell_type": "code",
   "execution_count": 23,
   "metadata": {},
   "outputs": [
    {
     "data": {
      "text/html": [
       "<div>\n",
       "<style scoped>\n",
       "    .dataframe tbody tr th:only-of-type {\n",
       "        vertical-align: middle;\n",
       "    }\n",
       "\n",
       "    .dataframe tbody tr th {\n",
       "        vertical-align: top;\n",
       "    }\n",
       "\n",
       "    .dataframe thead th {\n",
       "        text-align: right;\n",
       "    }\n",
       "</style>\n",
       "<table border=\"1\" class=\"dataframe\">\n",
       "  <thead>\n",
       "    <tr style=\"text-align: right;\">\n",
       "      <th></th>\n",
       "      <th>CrimeDate</th>\n",
       "      <th>CrimeTime</th>\n",
       "      <th>CrimeCode</th>\n",
       "      <th>Location</th>\n",
       "      <th>Description</th>\n",
       "      <th>Inside/Outside</th>\n",
       "      <th>Weapon</th>\n",
       "      <th>Post</th>\n",
       "      <th>District</th>\n",
       "      <th>Neighborhood</th>\n",
       "      <th>Coordinate</th>\n",
       "      <th>Total Incidents</th>\n",
       "      <th>Year</th>\n",
       "      <th>Month</th>\n",
       "      <th>Day</th>\n",
       "    </tr>\n",
       "  </thead>\n",
       "  <tbody>\n",
       "    <tr>\n",
       "      <th>0</th>\n",
       "      <td>2016-11-12</td>\n",
       "      <td>02:35:00</td>\n",
       "      <td>3B</td>\n",
       "      <td>300 SAINT PAUL PL</td>\n",
       "      <td>ROBBERY - STREET</td>\n",
       "      <td>Outside</td>\n",
       "      <td>NaN</td>\n",
       "      <td>111.0</td>\n",
       "      <td>CENTRAL</td>\n",
       "      <td>Downtown</td>\n",
       "      <td>{-76.6140800000, 39.2924100000}</td>\n",
       "      <td>1</td>\n",
       "      <td>2016</td>\n",
       "      <td>11</td>\n",
       "      <td>12</td>\n",
       "    </tr>\n",
       "    <tr>\n",
       "      <th>1</th>\n",
       "      <td>2016-11-12</td>\n",
       "      <td>02:56:00</td>\n",
       "      <td>3CF</td>\n",
       "      <td>800 S BROADWAY</td>\n",
       "      <td>ROBBERY - COMMERCIAL</td>\n",
       "      <td>Inside</td>\n",
       "      <td>FIREARM</td>\n",
       "      <td>213.0</td>\n",
       "      <td>SOUTHEASTERN</td>\n",
       "      <td>Fells Point</td>\n",
       "      <td>{-76.5928800000, 39.2824200000}</td>\n",
       "      <td>1</td>\n",
       "      <td>2016</td>\n",
       "      <td>11</td>\n",
       "      <td>12</td>\n",
       "    </tr>\n",
       "    <tr>\n",
       "      <th>2</th>\n",
       "      <td>2016-11-12</td>\n",
       "      <td>03:00:00</td>\n",
       "      <td>6D</td>\n",
       "      <td>1500 PENTWOOD RD</td>\n",
       "      <td>LARCENY FROM AUTO</td>\n",
       "      <td>Outside</td>\n",
       "      <td>NaN</td>\n",
       "      <td>413.0</td>\n",
       "      <td>NORTHEASTERN</td>\n",
       "      <td>Stonewood-Pentwood-Winston</td>\n",
       "      <td>{-76.5883400000, 39.3480500000}</td>\n",
       "      <td>1</td>\n",
       "      <td>2016</td>\n",
       "      <td>11</td>\n",
       "      <td>12</td>\n",
       "    </tr>\n",
       "    <tr>\n",
       "      <th>3</th>\n",
       "      <td>2016-11-12</td>\n",
       "      <td>03:00:00</td>\n",
       "      <td>6D</td>\n",
       "      <td>6600 MILTON LN</td>\n",
       "      <td>LARCENY FROM AUTO</td>\n",
       "      <td>Outside</td>\n",
       "      <td>NaN</td>\n",
       "      <td>424.0</td>\n",
       "      <td>NORTHEASTERN</td>\n",
       "      <td>Westfield</td>\n",
       "      <td>{-76.5516100000, 39.3626300000}</td>\n",
       "      <td>1</td>\n",
       "      <td>2016</td>\n",
       "      <td>11</td>\n",
       "      <td>12</td>\n",
       "    </tr>\n",
       "    <tr>\n",
       "      <th>4</th>\n",
       "      <td>2016-11-12</td>\n",
       "      <td>03:00:00</td>\n",
       "      <td>6E</td>\n",
       "      <td>300 W BALTIMORE ST</td>\n",
       "      <td>LARCENY</td>\n",
       "      <td>Outside</td>\n",
       "      <td>NaN</td>\n",
       "      <td>111.0</td>\n",
       "      <td>CENTRAL</td>\n",
       "      <td>Downtown</td>\n",
       "      <td>{39.2893800000, -76.6197100000}</td>\n",
       "      <td>1</td>\n",
       "      <td>2016</td>\n",
       "      <td>11</td>\n",
       "      <td>12</td>\n",
       "    </tr>\n",
       "    <tr>\n",
       "      <th>...</th>\n",
       "      <td>...</td>\n",
       "      <td>...</td>\n",
       "      <td>...</td>\n",
       "      <td>...</td>\n",
       "      <td>...</td>\n",
       "      <td>...</td>\n",
       "      <td>...</td>\n",
       "      <td>...</td>\n",
       "      <td>...</td>\n",
       "      <td>...</td>\n",
       "      <td>...</td>\n",
       "      <td>...</td>\n",
       "      <td>...</td>\n",
       "      <td>...</td>\n",
       "      <td>...</td>\n",
       "    </tr>\n",
       "    <tr>\n",
       "      <th>285802</th>\n",
       "      <td>2011-01-01</td>\n",
       "      <td>22:15:00</td>\n",
       "      <td>4D</td>\n",
       "      <td>6800 MCCLEAN BD</td>\n",
       "      <td>AGG. ASSAULT</td>\n",
       "      <td>Inside</td>\n",
       "      <td>HANDS</td>\n",
       "      <td>423.0</td>\n",
       "      <td>NORTHEASTERN</td>\n",
       "      <td>Hamilton Hills</td>\n",
       "      <td>{39.3704700000, -76.5670500000}</td>\n",
       "      <td>1</td>\n",
       "      <td>2011</td>\n",
       "      <td>01</td>\n",
       "      <td>01</td>\n",
       "    </tr>\n",
       "    <tr>\n",
       "      <th>285803</th>\n",
       "      <td>2011-01-01</td>\n",
       "      <td>22:30:00</td>\n",
       "      <td>6J</td>\n",
       "      <td>3000 ODONNELL ST</td>\n",
       "      <td>LARCENY</td>\n",
       "      <td>Inside</td>\n",
       "      <td>NaN</td>\n",
       "      <td>232.0</td>\n",
       "      <td>SOUTHEASTERN</td>\n",
       "      <td>Canton</td>\n",
       "      <td>{39.2804600000, -76.5727300000}</td>\n",
       "      <td>1</td>\n",
       "      <td>2011</td>\n",
       "      <td>01</td>\n",
       "      <td>01</td>\n",
       "    </tr>\n",
       "    <tr>\n",
       "      <th>285804</th>\n",
       "      <td>2011-01-01</td>\n",
       "      <td>23:00:00</td>\n",
       "      <td>7A</td>\n",
       "      <td>2500 ARUNAH AV</td>\n",
       "      <td>AUTO THEFT</td>\n",
       "      <td>Outside</td>\n",
       "      <td>NaN</td>\n",
       "      <td>721.0</td>\n",
       "      <td>WESTERN</td>\n",
       "      <td>Evergreen Lawn</td>\n",
       "      <td>{-76.6592800000, 39.2954200000}</td>\n",
       "      <td>1</td>\n",
       "      <td>2011</td>\n",
       "      <td>01</td>\n",
       "      <td>01</td>\n",
       "    </tr>\n",
       "    <tr>\n",
       "      <th>285805</th>\n",
       "      <td>2011-01-01</td>\n",
       "      <td>23:25:00</td>\n",
       "      <td>4E</td>\n",
       "      <td>100 N MONROE ST</td>\n",
       "      <td>COMMON ASSAULT</td>\n",
       "      <td>Inside</td>\n",
       "      <td>HANDS</td>\n",
       "      <td>714.0</td>\n",
       "      <td>WESTERN</td>\n",
       "      <td>Penrose/Fayette Street Outreach</td>\n",
       "      <td>{-76.6470700000, 39.2899900000}</td>\n",
       "      <td>1</td>\n",
       "      <td>2011</td>\n",
       "      <td>01</td>\n",
       "      <td>01</td>\n",
       "    </tr>\n",
       "    <tr>\n",
       "      <th>285806</th>\n",
       "      <td>2011-01-01</td>\n",
       "      <td>23:38:00</td>\n",
       "      <td>4D</td>\n",
       "      <td>800 N FREMONT AV</td>\n",
       "      <td>AGG. ASSAULT</td>\n",
       "      <td>Inside</td>\n",
       "      <td>HANDS</td>\n",
       "      <td>123.0</td>\n",
       "      <td>WESTERN</td>\n",
       "      <td>Upton</td>\n",
       "      <td>{-76.6339100000, 39.2981200000}</td>\n",
       "      <td>1</td>\n",
       "      <td>2011</td>\n",
       "      <td>01</td>\n",
       "      <td>01</td>\n",
       "    </tr>\n",
       "  </tbody>\n",
       "</table>\n",
       "<p>285807 rows × 15 columns</p>\n",
       "</div>"
      ],
      "text/plain": [
       "        CrimeDate CrimeTime CrimeCode            Location  \\\n",
       "0      2016-11-12  02:35:00        3B   300 SAINT PAUL PL   \n",
       "1      2016-11-12  02:56:00       3CF      800 S BROADWAY   \n",
       "2      2016-11-12  03:00:00        6D    1500 PENTWOOD RD   \n",
       "3      2016-11-12  03:00:00        6D      6600 MILTON LN   \n",
       "4      2016-11-12  03:00:00        6E  300 W BALTIMORE ST   \n",
       "...           ...       ...       ...                 ...   \n",
       "285802 2011-01-01  22:15:00        4D     6800 MCCLEAN BD   \n",
       "285803 2011-01-01  22:30:00        6J    3000 ODONNELL ST   \n",
       "285804 2011-01-01  23:00:00        7A      2500 ARUNAH AV   \n",
       "285805 2011-01-01  23:25:00        4E     100 N MONROE ST   \n",
       "285806 2011-01-01  23:38:00        4D    800 N FREMONT AV   \n",
       "\n",
       "                 Description Inside/Outside   Weapon   Post      District  \\\n",
       "0           ROBBERY - STREET        Outside      NaN  111.0       CENTRAL   \n",
       "1       ROBBERY - COMMERCIAL         Inside  FIREARM  213.0  SOUTHEASTERN   \n",
       "2          LARCENY FROM AUTO        Outside      NaN  413.0  NORTHEASTERN   \n",
       "3          LARCENY FROM AUTO        Outside      NaN  424.0  NORTHEASTERN   \n",
       "4                    LARCENY        Outside      NaN  111.0       CENTRAL   \n",
       "...                      ...            ...      ...    ...           ...   \n",
       "285802          AGG. ASSAULT         Inside    HANDS  423.0  NORTHEASTERN   \n",
       "285803               LARCENY         Inside      NaN  232.0  SOUTHEASTERN   \n",
       "285804            AUTO THEFT        Outside      NaN  721.0       WESTERN   \n",
       "285805        COMMON ASSAULT         Inside    HANDS  714.0       WESTERN   \n",
       "285806          AGG. ASSAULT         Inside    HANDS  123.0       WESTERN   \n",
       "\n",
       "                           Neighborhood                       Coordinate  \\\n",
       "0                              Downtown  {-76.6140800000, 39.2924100000}   \n",
       "1                           Fells Point  {-76.5928800000, 39.2824200000}   \n",
       "2            Stonewood-Pentwood-Winston  {-76.5883400000, 39.3480500000}   \n",
       "3                             Westfield  {-76.5516100000, 39.3626300000}   \n",
       "4                              Downtown  {39.2893800000, -76.6197100000}   \n",
       "...                                 ...                              ...   \n",
       "285802                   Hamilton Hills  {39.3704700000, -76.5670500000}   \n",
       "285803                           Canton  {39.2804600000, -76.5727300000}   \n",
       "285804                   Evergreen Lawn  {-76.6592800000, 39.2954200000}   \n",
       "285805  Penrose/Fayette Street Outreach  {-76.6470700000, 39.2899900000}   \n",
       "285806                            Upton  {-76.6339100000, 39.2981200000}   \n",
       "\n",
       "        Total Incidents  Year Month Day  \n",
       "0                     1  2016    11  12  \n",
       "1                     1  2016    11  12  \n",
       "2                     1  2016    11  12  \n",
       "3                     1  2016    11  12  \n",
       "4                     1  2016    11  12  \n",
       "...                 ...   ...   ...  ..  \n",
       "285802                1  2011    01  01  \n",
       "285803                1  2011    01  01  \n",
       "285804                1  2011    01  01  \n",
       "285805                1  2011    01  01  \n",
       "285806                1  2011    01  01  \n",
       "\n",
       "[285807 rows x 15 columns]"
      ]
     },
     "execution_count": 23,
     "metadata": {},
     "output_type": "execute_result"
    }
   ],
   "source": [
    "df"
   ]
  },
  {
   "attachments": {},
   "cell_type": "markdown",
   "metadata": {},
   "source": [
    "__Thông tin các cột__"
   ]
  },
  {
   "attachments": {},
   "cell_type": "markdown",
   "metadata": {},
   "source": [
    "<table>\n",
    "    <tr>\n",
    "        <th>STT</th>\n",
    "        <th>Tên cột</th>\n",
    "        <th>Ý nghĩa</th>\n",
    "    </tr>\n",
    "    <!-- <tr> -->\n",
    "        <th>1</th>\n",
    "        <th>CrimeDate</th>\n",
    "        <th>Ngày phạm tội</th>\n",
    "    </tr>\n",
    "    <tr>\n",
    "        <th>2</th>\n",
    "        <th>CrimeTime</th>\n",
    "        <th>Thời gian phạm tội</th>\n",
    "    </tr>\n",
    "    <tr>\n",
    "        <th>3</th>\n",
    "        <th>CrimeCode</th>\n",
    "        <th>Mã phạm tội</th>\n",
    "    </tr>\n",
    "    <tr>\n",
    "        <th>4</th>\n",
    "        <th>Location</th>\n",
    "        <th>Địa chỉ nơi phạm tội</th>\n",
    "    </tr>\n",
    "    <tr>\n",
    "        <th>5</th>\n",
    "        <th>Description</th>\n",
    "        <th>Mô tả cách phạm tội</th>\n",
    "    </tr>\n",
    "    <tr>\n",
    "        <th>6</th>\n",
    "        <th>Inside/Outside</th>\n",
    "        <th>Vụ phạm tội xảy ra ở trong nhà hay ngoài nhà</th>\n",
    "    </tr>\n",
    "    <tr>\n",
    "        <th>7</th>\n",
    "        <th>Weapon</th>\n",
    "        <th>Hung khí sử dụng</th>\n",
    "    </tr>\n",
    "    <tr>\n",
    "        <th>8</th>\n",
    "        <th>Post</th>\n",
    "        <th>Số tiền bồi thường</th>\n",
    "    </tr>\n",
    "    <tr>\n",
    "        <th>9</th>\n",
    "        <th>District</th>\n",
    "        <th>Phía của thành phố Baltimore</th>\n",
    "    </tr>\n",
    "    <tr>\n",
    "        <th>10</th>\n",
    "        <th>Neighborhood</th>\n",
    "        <th>Vị trí lân cận</th>\n",
    "    </tr>\n",
    "    <tr>\n",
    "        <th>11</th>\n",
    "        <th>Coordinate</th>\n",
    "        <th>Tọa độ nơi xảy ra vụ phạm tội</th>\n",
    "    </tr>\n",
    "    <tr>\n",
    "        <th>12</th>\n",
    "        <th>Total Incidents</th>\n",
    "        <th>Tổng số sự cố</th>\n",
    "    </tr>   \n",
    "</table>"
   ]
  },
  {
   "attachments": {},
   "cell_type": "markdown",
   "metadata": {},
   "source": [
    "## __Số lượng vụ phạm tội xảy ra trong từng năm__"
   ]
  },
  {
   "attachments": {},
   "cell_type": "markdown",
   "metadata": {},
   "source": [
    "Quan sát trong từng năm, kiểm tra số vụ phạm tội xảy ra"
   ]
  },
  {
   "cell_type": "code",
   "execution_count": 24,
   "metadata": {},
   "outputs": [
    {
     "data": {
      "text/html": [
       "<div>\n",
       "<style scoped>\n",
       "    .dataframe tbody tr th:only-of-type {\n",
       "        vertical-align: middle;\n",
       "    }\n",
       "\n",
       "    .dataframe tbody tr th {\n",
       "        vertical-align: top;\n",
       "    }\n",
       "\n",
       "    .dataframe thead th {\n",
       "        text-align: right;\n",
       "    }\n",
       "</style>\n",
       "<table border=\"1\" class=\"dataframe\">\n",
       "  <thead>\n",
       "    <tr style=\"text-align: right;\">\n",
       "      <th></th>\n",
       "      <th>count</th>\n",
       "      <th>Growth</th>\n",
       "    </tr>\n",
       "  </thead>\n",
       "  <tbody>\n",
       "    <tr>\n",
       "      <th>2011</th>\n",
       "      <td>50651</td>\n",
       "      <td>0.000000</td>\n",
       "    </tr>\n",
       "    <tr>\n",
       "      <th>2012</th>\n",
       "      <td>49561</td>\n",
       "      <td>-0.021520</td>\n",
       "    </tr>\n",
       "    <tr>\n",
       "      <th>2013</th>\n",
       "      <td>49542</td>\n",
       "      <td>-0.000383</td>\n",
       "    </tr>\n",
       "    <tr>\n",
       "      <th>2015</th>\n",
       "      <td>48806</td>\n",
       "      <td>-0.014856</td>\n",
       "    </tr>\n",
       "    <tr>\n",
       "      <th>2014</th>\n",
       "      <td>45958</td>\n",
       "      <td>-0.058353</td>\n",
       "    </tr>\n",
       "    <tr>\n",
       "      <th>2016</th>\n",
       "      <td>41289</td>\n",
       "      <td>-0.101593</td>\n",
       "    </tr>\n",
       "  </tbody>\n",
       "</table>\n",
       "</div>"
      ],
      "text/plain": [
       "      count    Growth\n",
       "2011  50651  0.000000\n",
       "2012  49561 -0.021520\n",
       "2013  49542 -0.000383\n",
       "2015  48806 -0.014856\n",
       "2014  45958 -0.058353\n",
       "2016  41289 -0.101593"
      ]
     },
     "execution_count": 24,
     "metadata": {},
     "output_type": "execute_result"
    }
   ],
   "source": [
    "yearCrime_df = df['Year'].value_counts().to_frame(name = 'count')\n",
    "yearCrime_df['Growth'] = yearCrime_df['count'].pct_change(periods=1)\n",
    "yearCrime_df['Growth'].iloc[(0)] = 0\n",
    "yearCrime_df"
   ]
  },
  {
   "cell_type": "code",
   "execution_count": 25,
   "metadata": {},
   "outputs": [],
   "source": [
    "barcolor = []\n",
    "maxCount = yearCrime_df['count'].max()\n",
    "minCount = yearCrime_df['count'].min()\n",
    "\n",
    "for c in yearCrime_df['count'].values:\n",
    "    if c == maxCount:\n",
    "        barcolor.append('red')\n",
    "    elif (c == minCount):\n",
    "        barcolor.append('green')\n",
    "    else:\n",
    "        barcolor.append('grey')"
   ]
  },
  {
   "cell_type": "code",
   "execution_count": 26,
   "metadata": {},
   "outputs": [
    {
     "data": {
      "image/png": "[encoded data removed]",
      "text/plain": [
       "<Figure size 2000x500 with 2 Axes>"
      ]
     },
     "metadata": {},
     "output_type": "display_data"
    }
   ],
   "source": [
    "fig, ax = plt.subplots(figsize = (20,5))\n",
    "bar = yearCrime_df['count'].plot.bar(ax = ax, rot = 0, color = barcolor)\n",
    "ax2 = ax.twinx()\n",
    "line = yearCrime_df['Growth'].plot.line(ax = ax2, color = 'blue', linewidth = 3, marker = 'o', markersize = 10)\n",
    "ax.set_xlabel('Year', fontsize = 15)\n",
    "ax.set_ylabel('Count', fontsize =15)\n",
    "ax2.set_ylabel('Growth Rate', fontsize =15)\n",
    "fig.legend([bar, line], labels = ['count', 'growth rate'], bbox_to_anchor=(1, 1), shadow = True)\n",
    "# fig.legends[0].set_title('Legend')\n",
    "plt.show()"
   ]
  },
  {
   "attachments": {},
   "cell_type": "markdown",
   "metadata": {},
   "source": [
    "__Đánh giá__\n",
    "+ Năm có nhiều vụ phạm tội nhất là vào năm __2011__, và thấp nhất vào năm __2016__.\n",
    "+ Có thể nói các vụ phạm tội qua các năm có sự suy giảm, tuy không đáng kể, nhưng có thể nói đã có sự phát triển trong việc kiểm soát của chính quyền thành phố Baltimore.\n",
    "+ Năm __2016__ cho thấy được mức độ giảm các vụ phạm tội là rõ rệt nhất với tỉ lệ giảm hơn 10% so với năm 2014"
   ]
  },
  {
   "cell_type": "markdown",
   "metadata": {},
   "source": []
  },
  {
   "attachments": {},
   "cell_type": "markdown",
   "metadata": {},
   "source": [
    "## Mức độ xảy ra tai nạn mỗi tuần."
   ]
  },
  {
   "attachments": {},
   "cell_type": "markdown",
   "metadata": {},
   "source": [
    "Khi quan sát dữ liệu `CrimeTime` ta có thể thấy có một vài dòng dữ liệu có format sai. Ta sẽ sửa lại cột này bằng cách chỉ lấy giờ chuẩn xảy xa phạm tội. Đồng thời gom tổng các vụ phạm tội theo thời gian xảy ra trong tuần vào dataframe mới là `Crime_Weekdays_df`."
   ]
  },
  {
   "cell_type": "code",
   "execution_count": 58,
   "metadata": {},
   "outputs": [],
   "source": [
    "df['Day of Week'] = df['CrimeDate'].astype('datetime64[ns]').dt.day_name()\n",
    "df['CrimeTime'] = pd.to_datetime(df['CrimeTime'], format='%H', exact=False).astype(str).str[11:16]\n",
    "df['Hour'] = df['CrimeTime'].astype('datetime64[ns]').dt.hour\n",
    "WeekDays = ['Sunday', 'Saturday', 'Friday', 'Thursday', 'Wednesday', 'Tuesday','Monday']\n",
    "Hours = np.arange(24)\n",
    "gb = df.groupby(['Day of Week', 'Hour']).size()\n",
    "Crime_Weekdays_df = pd.DataFrame(columns = WeekDays, index= Hours)\n",
    "for col in WeekDays:\n",
    "    Crime_Weekdays_df[col] = [x for x in gb[col]]\n",
    "df = df.drop(columns= ['Day of Week','Hour'])"
   ]
  },
  {
   "attachments": {},
   "cell_type": "markdown",
   "metadata": {},
   "source": [
    "Trực quan hóa từ `Crime_Weekdays_df`."
   ]
  },
  {
   "cell_type": "code",
   "execution_count": 60,
   "metadata": {},
   "outputs": [
    {
     "data": {
      "image/png": "[encoded data removed]",
      "text/plain": [
       "<Figure size 700x600 with 2 Axes>"
      ]
     },
     "metadata": {},
     "output_type": "display_data"
    }
   ],
   "source": [
    "ax = plt.axes()\n",
    "sns.heatmap(Crime_Weekdays_df.T, linewidth=.5, ax=ax)\n",
    "ax.set_title('Thống kê số vụ phạm tội tại các khung giờ trong tuần')\n",
    "ax.set_ylabel('Ngày trong tuần')\n",
    "ax.set_xlabel('Thời gian')\n",
    "ax.title.set_fontsize(10)\n",
    "plt.setp(ax.get_xticklabels(), rotation= 0, fontsize = 8)\n",
    "plt.setp(ax.get_yticklabels(), rotation= 90, fontsize = 8)\n",
    "ax.xaxis.label.set_fontsize(8)\n",
    "ax.yaxis.label.set_fontsize(8)\n",
    "ax.figure.set_figheight(6)\n",
    "ax.figure.set_figwidth(7)\n",
    "plt.show()"
   ]
  }
 ],
 "metadata": {
  "kernelspec": {
   "display_name": "Python 3",
   "language": "python",
   "name": "python3"
  },
  "language_info": {
   "codemirror_mode": {
    "name": "ipython",
    "version": 3
   },
   "file_extension": ".py",
   "mimetype": "text/x-python",
   "name": "python",
   "nbconvert_exporter": "python",
   "pygments_lexer": "ipython3",
   "version": "3.9.0"
  },
  "orig_nbformat": 4
 },
 "nbformat": 4,
 "nbformat_minor": 2
}
